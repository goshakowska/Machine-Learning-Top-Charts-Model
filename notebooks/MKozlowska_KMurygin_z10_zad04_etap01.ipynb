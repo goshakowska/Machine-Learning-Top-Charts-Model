{
 "cells": [
  {
   "cell_type": "markdown",
   "metadata": {},
   "source": [
    "# IUM - semestr 24L\n",
    "## Zadanie 4\n",
    "### Zespół 10, w składzie: \n",
    "- Małgorzata Kozłowska (318681), \n",
    "- Kacper Murygin (#TODO)\n",
    "### Prowadzący: Paweł Zawistowski\n",
    "\n",
    "\n",
    "### Treść zadania:\n",
    "> “Mamy pomysł na świetne narzędzie dla naszych użytkowników – zacznijmy generować listę top utworów, ale z wyprzedzeniem tygodniowym! Będziemy szybsi od konkurencji i zwiększymy zaangażowanie.”\n",
    "\n",
    "Do wykonania zadania otrzymaliśmy dostęp do danych ze zbiorów:\n",
    "- artists.jsonl\n",
    "- sessions.jsonl\n",
    "- track_storage.jsonl\n",
    "- tracks.jsonl\n",
    "- users.jsonl\n",
    "\n",
    "### Ogólna analiza powyższych zbiorów:\n",
    "#### artists.jsonl\n",
    "Zbiór danych zawiera informacje o 'id' - identyfikatorze danego artysty, o 'name' - jego imieniu scenicznym oraz o 'genres' - gatunkku/liście gatunków, do jakich jego twórczość należy.\n",
    "\n",
    "#### sessions.jsonl\n",
    "Zbiór danych zawiera informacje o sesjach użytkowników. Do zarejestrowanych danych należy 'session_id' - id sesji, 'timestamp' - czas wykonania zdarzenia, 'user_id' - unikalny identyfikator użytkownika, 'track_id' - unikalny identyfikator utworu oraz 'event_type', mówiący o typu zdarzenia, jakie zostało zanotowane.\n",
    "\n",
    "#### track_storage.jsonl\n",
    "\n",
    "\n",
    "#### tracks.jsonl\n",
    "\n",
    "#### users.jsonl\n",
    "\n",
    "### Analiza zbiorów z perspektywy realizacji zadania\n",
    "\n",
    "#### artists.jsonl - otrzymany\n",
    "#### sessions.jsonl\n",
    "#### track_storage.jsonl\n",
    "#### tracks.jsonl\n",
    "#### users.jsonl"
   ]
  },
  {
   "cell_type": "markdown",
   "metadata": {},
   "source": [
    "TODO:\n",
    "- braki w zbiorach\n",
    "- z jakich będziemy korzystać\n",
    "- jakie pola\n",
    "\n",
    "\n",
    "Podejścia\n",
    "Dwa modele:\n",
    "- dla starych hitów (nowy serial, soundtrack): po 'release_date' i 'session_id' ('popularity')- wzrost odsłuchiwań - Oldies but Goodies\n",
    "- dla genres/wszystkich - filtrujemy względem 'genres' : pola 'popularity'\n"
   ]
  },
  {
   "cell_type": "code",
   "execution_count": null,
   "metadata": {},
   "outputs": [],
   "source": []
  }
 ],
 "metadata": {
  "language_info": {
   "name": "python"
  }
 },
 "nbformat": 4,
 "nbformat_minor": 2
}
